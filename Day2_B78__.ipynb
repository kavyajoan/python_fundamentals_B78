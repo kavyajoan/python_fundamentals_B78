{
 "cells": [
  {
   "cell_type": "code",
   "execution_count": null,
   "id": "5ac99ddd",
   "metadata": {},
   "outputs": [],
   "source": [
    "Variables in python:"
   ]
  },
  {
   "cell_type": "code",
   "execution_count": null,
   "id": "d7c7feaa",
   "metadata": {},
   "outputs": [],
   "source": [
    "Rule 1:No namespaces while declaring the variable nams in python:"
   ]
  },
  {
   "cell_type": "code",
   "execution_count": 4,
   "id": "be2f8937",
   "metadata": {},
   "outputs": [
    {
     "name": "stdout",
     "output_type": "stream",
     "text": [
      "kavya\n"
     ]
    }
   ],
   "source": [
    "firstname=\"kavya\"\n",
    "print(firstname)"
   ]
  },
  {
   "cell_type": "code",
   "execution_count": null,
   "id": "2f8b3f31",
   "metadata": {},
   "outputs": [],
   "source": []
  },
  {
   "cell_type": "code",
   "execution_count": 3,
   "id": "eee27ed9",
   "metadata": {},
   "outputs": [
    {
     "name": "stdout",
     "output_type": "stream",
     "text": [
      "sara\n"
     ]
    }
   ],
   "source": [
    "first_name=\"sara\"\n",
    "print(first_name)"
   ]
  },
  {
   "cell_type": "code",
   "execution_count": null,
   "id": "a0cff88c",
   "metadata": {},
   "outputs": [],
   "source": [
    "Rule 2:A variable name should not start with a number **"
   ]
  },
  {
   "cell_type": "code",
   "execution_count": 5,
   "id": "3e169a7c",
   "metadata": {},
   "outputs": [
    {
     "ename": "SyntaxError",
     "evalue": "invalid syntax (<ipython-input-5-4f48c1017e25>, line 1)",
     "output_type": "error",
     "traceback": [
      "\u001b[1;36m  File \u001b[1;32m\"<ipython-input-5-4f48c1017e25>\"\u001b[1;36m, line \u001b[1;32m1\u001b[0m\n\u001b[1;33m    1name=\"praveen\"\u001b[0m\n\u001b[1;37m     ^\u001b[0m\n\u001b[1;31mSyntaxError\u001b[0m\u001b[1;31m:\u001b[0m invalid syntax\n"
     ]
    }
   ],
   "source": [
    "1name=\"praveen\"\n",
    "print(1name)"
   ]
  },
  {
   "cell_type": "code",
   "execution_count": 17,
   "id": "edb2c640",
   "metadata": {},
   "outputs": [
    {
     "name": "stdout",
     "output_type": "stream",
     "text": [
      "praveen\n"
     ]
    }
   ],
   "source": [
    "name1=\"praveen\"\n",
    "print(name1)"
   ]
  },
  {
   "cell_type": "code",
   "execution_count": null,
   "id": "2b93c05c",
   "metadata": {},
   "outputs": [],
   "source": [
    "Rule 3:A variables name should not contain any special characters "
   ]
  },
  {
   "cell_type": "code",
   "execution_count": null,
   "id": "6e34a07d",
   "metadata": {},
   "outputs": [],
   "source": []
  },
  {
   "cell_type": "code",
   "execution_count": null,
   "id": "ebe9cebb",
   "metadata": {},
   "outputs": [],
   "source": [
    "Introduction to datatypes in python:\n",
    "    1.String------>str\n",
    "    2.numbers----->integers(int) and floats (decimals)(float)\n",
    "    3.list-------->list\n",
    "    4.tuple------->tuple\n",
    "    5.Dictionary-->dict"
   ]
  },
  {
   "cell_type": "code",
   "execution_count": null,
   "id": "e7c9b7e1",
   "metadata": {},
   "outputs": [],
   "source": []
  },
  {
   "cell_type": "code",
   "execution_count": null,
   "id": "bdfb5284",
   "metadata": {},
   "outputs": [],
   "source": [
    "classification of Datatypes:\n",
    "    1.mutable datatypes----->which are editable--->flexible in nature\n",
    "    2.immutable datatypes--->which are non editable--->fixed in nature"
   ]
  },
  {
   "cell_type": "code",
   "execution_count": null,
   "id": "51dbae67",
   "metadata": {},
   "outputs": [],
   "source": []
  },
  {
   "cell_type": "code",
   "execution_count": null,
   "id": "70d85e75",
   "metadata": {},
   "outputs": [],
   "source": [
    "Introduction to string datatype:\n",
    "Definition:A string is a series of characters declared in quotes.\n",
    "classification:it is classified as a imutable datatye\n",
    "how to declare the string:\n",
    "    1.''------>Single quotes\n",
    "    2.\"\"------>Double quotes"
   ]
  },
  {
   "cell_type": "code",
   "execution_count": 7,
   "id": "fb606a23",
   "metadata": {},
   "outputs": [
    {
     "name": "stdout",
     "output_type": "stream",
     "text": [
      "joan\n"
     ]
    }
   ],
   "source": [
    "name='joan'   #single quote\n",
    "print(name)"
   ]
  },
  {
   "cell_type": "code",
   "execution_count": 9,
   "id": "4e16b057",
   "metadata": {},
   "outputs": [
    {
     "name": "stdout",
     "output_type": "stream",
     "text": [
      "kavin\n"
     ]
    }
   ],
   "source": [
    "name1=\"kavin\"    #Double quote\n",
    "print(name)"
   ]
  },
  {
   "cell_type": "code",
   "execution_count": null,
   "id": "301d2586",
   "metadata": {},
   "outputs": [],
   "source": []
  },
  {
   "cell_type": "code",
   "execution_count": null,
   "id": "fa83d0d0",
   "metadata": {},
   "outputs": [],
   "source": [
    "Introduction to string methods:"
   ]
  },
  {
   "cell_type": "code",
   "execution_count": 10,
   "id": "78afc469",
   "metadata": {},
   "outputs": [
    {
     "data": {
      "text/plain": [
       "str"
      ]
     },
     "execution_count": 10,
     "metadata": {},
     "output_type": "execute_result"
    }
   ],
   "source": [
    "type(name)"
   ]
  },
  {
   "cell_type": "code",
   "execution_count": 11,
   "id": "b44ab209",
   "metadata": {},
   "outputs": [
    {
     "data": {
      "text/plain": [
       "str"
      ]
     },
     "execution_count": 11,
     "metadata": {},
     "output_type": "execute_result"
    }
   ],
   "source": [
    "type(name1)"
   ]
  },
  {
   "cell_type": "code",
   "execution_count": 14,
   "id": "6cd4718a",
   "metadata": {},
   "outputs": [
    {
     "name": "stdout",
     "output_type": "stream",
     "text": [
      "richard\n"
     ]
    }
   ],
   "source": [
    "name='richard'\n",
    "print(name)"
   ]
  },
  {
   "cell_type": "code",
   "execution_count": 13,
   "id": "c0c68754",
   "metadata": {},
   "outputs": [
    {
     "name": "stdout",
     "output_type": "stream",
     "text": [
      "Richard\n"
     ]
    }
   ],
   "source": [
    "print(name.title())"
   ]
  },
  {
   "cell_type": "code",
   "execution_count": 15,
   "id": "624fc555",
   "metadata": {},
   "outputs": [
    {
     "name": "stdout",
     "output_type": "stream",
     "text": [
      "RICHARD\n"
     ]
    }
   ],
   "source": [
    "print(name.upper())"
   ]
  },
  {
   "cell_type": "code",
   "execution_count": 16,
   "id": "e86a3290",
   "metadata": {},
   "outputs": [
    {
     "name": "stdout",
     "output_type": "stream",
     "text": [
      "richard\n"
     ]
    }
   ],
   "source": [
    "print(name.lower())"
   ]
  },
  {
   "cell_type": "code",
   "execution_count": null,
   "id": "89c31f8f",
   "metadata": {},
   "outputs": [],
   "source": []
  }
 ],
 "metadata": {
  "kernelspec": {
   "display_name": "Python 3",
   "language": "python",
   "name": "python3"
  },
  "language_info": {
   "codemirror_mode": {
    "name": "ipython",
    "version": 3
   },
   "file_extension": ".py",
   "mimetype": "text/x-python",
   "name": "python",
   "nbconvert_exporter": "python",
   "pygments_lexer": "ipython3",
   "version": "3.8.8"
  }
 },
 "nbformat": 4,
 "nbformat_minor": 5
}
